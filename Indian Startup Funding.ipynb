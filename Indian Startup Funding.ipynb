{
 "cells": [
  {
   "cell_type": "markdown",
   "id": "f8c7f197",
   "metadata": {},
   "source": [
    "**About Data**\n",
    "\n",
    "Date: This column represents the date on which the investment in the startup was made. It could be in a specific date format, and it indicates the timing of the investment.\n",
    "\n",
    "Indian Startup: This column contains the name or identifier of the Indian startup that received the investment. It identifies the specific company involved in the funding.\n",
    "\n",
    "Vertical:This column represents the industry or sector to which the startup belongs. It provides information about the business domain or category of the startup.\n",
    "\n",
    "City:This column indicates the city where the startup is based or has a significant presence. It provides geographical information about the location of the startup.\n",
    "\n",
    "Round:This column denotes the funding round or stage of investment. It could be Seed, Series A, Series B, and so on, indicating the maturity and stage of the startup's development when the investment was made.\n",
    "\n",
    "Amount:This column represents the amount of investment made in the startup and indicates the financial magnitude of the investment."
   ]
  },
  {
   "cell_type": "markdown",
   "id": "2955531a",
   "metadata": {},
   "source": [
    "**Objectives**\n",
    "\n",
    "Analyze temporal patterns in startup investments to identify trends and shifts over time.\n",
    "\n",
    "Determine which industries or verticals attract the most funding and understand emerging sectors.\n",
    "\n",
    "Examine the distribution of startups and investment hubs across different cities and regions\n",
    "\n",
    "Assess the stages of development of startups by analyzing the distribution of funding rounds.\n",
    "\n",
    "Identify patterns in investor preferences, including types of startups, preferred stages, and regional focus."
   ]
  },
  {
   "cell_type": "code",
   "execution_count": 1,
   "id": "f0ecb70d",
   "metadata": {},
   "outputs": [],
   "source": [
    "import numpy as np\n",
    "import pandas as pd"
   ]
  },
  {
   "cell_type": "code",
   "execution_count": 6,
   "id": "10aaf2fa",
   "metadata": {},
   "outputs": [
    {
     "data": {
      "text/plain": [
       "(2821, 8)"
      ]
     },
     "execution_count": 6,
     "metadata": {},
     "output_type": "execute_result"
    }
   ],
   "source": [
    "df = pd.read_csv(r\"C:\\Users\\pktal\\Downloads\\startup.csv\")\n",
    "df.shape"
   ]
  },
  {
   "cell_type": "code",
   "execution_count": 7,
   "id": "658a3600",
   "metadata": {},
   "outputs": [
    {
     "data": {
      "text/plain": [
       "date             0\n",
       "startup          0\n",
       "vertical         0\n",
       "subvertical    744\n",
       "city             0\n",
       "investors        0\n",
       "round            0\n",
       "amount           0\n",
       "dtype: int64"
      ]
     },
     "execution_count": 7,
     "metadata": {},
     "output_type": "execute_result"
    }
   ],
   "source": [
    "df.isnull().sum()"
   ]
  },
  {
   "cell_type": "code",
   "execution_count": 8,
   "id": "c6d11f5a",
   "metadata": {},
   "outputs": [
    {
     "data": {
      "text/plain": [
       "(2821, 8)"
      ]
     },
     "execution_count": 8,
     "metadata": {},
     "output_type": "execute_result"
    }
   ],
   "source": [
    "df.shape"
   ]
  },
  {
   "cell_type": "markdown",
   "id": "9de76e72",
   "metadata": {},
   "source": [
    "### Data Cleaning"
   ]
  },
  {
   "cell_type": "code",
   "execution_count": 9,
   "id": "93bbd4a4",
   "metadata": {},
   "outputs": [
    {
     "data": {
      "text/html": [
       "<div>\n",
       "<style scoped>\n",
       "    .dataframe tbody tr th:only-of-type {\n",
       "        vertical-align: middle;\n",
       "    }\n",
       "\n",
       "    .dataframe tbody tr th {\n",
       "        vertical-align: top;\n",
       "    }\n",
       "\n",
       "    .dataframe thead th {\n",
       "        text-align: right;\n",
       "    }\n",
       "</style>\n",
       "<table border=\"1\" class=\"dataframe\">\n",
       "  <thead>\n",
       "    <tr style=\"text-align: right;\">\n",
       "      <th></th>\n",
       "      <th>date</th>\n",
       "      <th>startup</th>\n",
       "      <th>vertical</th>\n",
       "      <th>subvertical</th>\n",
       "      <th>city</th>\n",
       "      <th>investors</th>\n",
       "      <th>round</th>\n",
       "      <th>amount</th>\n",
       "    </tr>\n",
       "  </thead>\n",
       "  <tbody>\n",
       "    <tr>\n",
       "      <th>0</th>\n",
       "      <td>2020-09-01</td>\n",
       "      <td>BYJU’S</td>\n",
       "      <td>E-Tech</td>\n",
       "      <td>E-learning</td>\n",
       "      <td>Bengaluru</td>\n",
       "      <td>Tiger Global Management</td>\n",
       "      <td>Private Equity Round</td>\n",
       "      <td>200000000.0</td>\n",
       "    </tr>\n",
       "    <tr>\n",
       "      <th>1</th>\n",
       "      <td>2020-01-13</td>\n",
       "      <td>Shuttl</td>\n",
       "      <td>Transportation</td>\n",
       "      <td>App based shuttle service</td>\n",
       "      <td>Gurgaon</td>\n",
       "      <td>Susquehanna Growth Equity</td>\n",
       "      <td>Series C</td>\n",
       "      <td>8048394.0</td>\n",
       "    </tr>\n",
       "    <tr>\n",
       "      <th>2</th>\n",
       "      <td>2020-09-01</td>\n",
       "      <td>Mamaearth</td>\n",
       "      <td>E-commerce</td>\n",
       "      <td>Retailer of baby and toddler products</td>\n",
       "      <td>Bengaluru</td>\n",
       "      <td>Sequoia Capital India</td>\n",
       "      <td>Series B</td>\n",
       "      <td>18358860.0</td>\n",
       "    </tr>\n",
       "    <tr>\n",
       "      <th>3</th>\n",
       "      <td>2020-02-01</td>\n",
       "      <td>https://www.wealthbucket.in/</td>\n",
       "      <td>FinTech</td>\n",
       "      <td>Online Investment</td>\n",
       "      <td>New Delhi</td>\n",
       "      <td>Vinod Khatumal</td>\n",
       "      <td>Pre-series A</td>\n",
       "      <td>3000000.0</td>\n",
       "    </tr>\n",
       "    <tr>\n",
       "      <th>4</th>\n",
       "      <td>2020-02-01</td>\n",
       "      <td>Fashor</td>\n",
       "      <td>Fashion and Apparel</td>\n",
       "      <td>Embroiled Clothes For Women</td>\n",
       "      <td>Mumbai</td>\n",
       "      <td>Sprout Venture Partners</td>\n",
       "      <td>Seed Round</td>\n",
       "      <td>1800000.0</td>\n",
       "    </tr>\n",
       "  </tbody>\n",
       "</table>\n",
       "</div>"
      ],
      "text/plain": [
       "         date                       startup             vertical  \\\n",
       "0  2020-09-01                        BYJU’S               E-Tech   \n",
       "1  2020-01-13                        Shuttl       Transportation   \n",
       "2  2020-09-01                     Mamaearth           E-commerce   \n",
       "3  2020-02-01  https://www.wealthbucket.in/              FinTech   \n",
       "4  2020-02-01                        Fashor  Fashion and Apparel   \n",
       "\n",
       "                             subvertical       city  \\\n",
       "0                             E-learning  Bengaluru   \n",
       "1              App based shuttle service    Gurgaon   \n",
       "2  Retailer of baby and toddler products  Bengaluru   \n",
       "3                      Online Investment  New Delhi   \n",
       "4            Embroiled Clothes For Women     Mumbai   \n",
       "\n",
       "                   investors                 round       amount  \n",
       "0    Tiger Global Management  Private Equity Round  200000000.0  \n",
       "1  Susquehanna Growth Equity              Series C    8048394.0  \n",
       "2      Sequoia Capital India              Series B   18358860.0  \n",
       "3             Vinod Khatumal          Pre-series A    3000000.0  \n",
       "4    Sprout Venture Partners            Seed Round    1800000.0  "
      ]
     },
     "execution_count": 9,
     "metadata": {},
     "output_type": "execute_result"
    }
   ],
   "source": [
    "df.head()"
   ]
  },
  {
   "cell_type": "code",
   "execution_count": 10,
   "id": "b6612fc6",
   "metadata": {},
   "outputs": [
    {
     "name": "stdout",
     "output_type": "stream",
     "text": [
      "<class 'pandas.core.frame.DataFrame'>\n",
      "RangeIndex: 2821 entries, 0 to 2820\n",
      "Data columns (total 8 columns):\n",
      " #   Column       Non-Null Count  Dtype  \n",
      "---  ------       --------------  -----  \n",
      " 0   date         2821 non-null   object \n",
      " 1   startup      2821 non-null   object \n",
      " 2   vertical     2821 non-null   object \n",
      " 3   subvertical  2077 non-null   object \n",
      " 4   city         2821 non-null   object \n",
      " 5   investors    2821 non-null   object \n",
      " 6   round        2821 non-null   object \n",
      " 7   amount       2821 non-null   float64\n",
      "dtypes: float64(1), object(7)\n",
      "memory usage: 176.4+ KB\n"
     ]
    }
   ],
   "source": [
    "df.info()"
   ]
  },
  {
   "cell_type": "code",
   "execution_count": null,
   "id": "9421963a",
   "metadata": {},
   "outputs": [],
   "source": []
  },
  {
   "cell_type": "code",
   "execution_count": null,
   "id": "8c8888a8",
   "metadata": {},
   "outputs": [],
   "source": []
  },
  {
   "cell_type": "markdown",
   "id": "3c5929d1",
   "metadata": {},
   "source": [
    "### Investors Analysis"
   ]
  },
  {
   "cell_type": "code",
   "execution_count": 11,
   "id": "682f4d2e",
   "metadata": {},
   "outputs": [
    {
     "data": {
      "text/html": [
       "<div>\n",
       "<style scoped>\n",
       "    .dataframe tbody tr th:only-of-type {\n",
       "        vertical-align: middle;\n",
       "    }\n",
       "\n",
       "    .dataframe tbody tr th {\n",
       "        vertical-align: top;\n",
       "    }\n",
       "\n",
       "    .dataframe thead th {\n",
       "        text-align: right;\n",
       "    }\n",
       "</style>\n",
       "<table border=\"1\" class=\"dataframe\">\n",
       "  <thead>\n",
       "    <tr style=\"text-align: right;\">\n",
       "      <th></th>\n",
       "      <th>date</th>\n",
       "      <th>startup</th>\n",
       "      <th>vertical</th>\n",
       "      <th>city</th>\n",
       "      <th>round</th>\n",
       "      <th>amount</th>\n",
       "    </tr>\n",
       "  </thead>\n",
       "  <tbody>\n",
       "    <tr>\n",
       "      <th>612</th>\n",
       "      <td>2017-02-08</td>\n",
       "      <td>Zepo</td>\n",
       "      <td>Consumer Internet</td>\n",
       "      <td>Mumbai</td>\n",
       "      <td>Seed Funding</td>\n",
       "      <td>500000.0</td>\n",
       "    </tr>\n",
       "    <tr>\n",
       "      <th>1165</th>\n",
       "      <td>2016-02-11</td>\n",
       "      <td>LetsMD</td>\n",
       "      <td>Consumer Internet</td>\n",
       "      <td>New Delhi</td>\n",
       "      <td>Seed Funding</td>\n",
       "      <td>0.0</td>\n",
       "    </tr>\n",
       "    <tr>\n",
       "      <th>1348</th>\n",
       "      <td>2016-09-15</td>\n",
       "      <td>infeedo</td>\n",
       "      <td>Consumer Internet</td>\n",
       "      <td>Gurgaon</td>\n",
       "      <td>Seed Funding</td>\n",
       "      <td>200000.0</td>\n",
       "    </tr>\n",
       "    <tr>\n",
       "      <th>1393</th>\n",
       "      <td>2016-02-08</td>\n",
       "      <td>Daily Ninja</td>\n",
       "      <td>Consumer Internet</td>\n",
       "      <td>Bangalore</td>\n",
       "      <td>Seed Funding</td>\n",
       "      <td>0.0</td>\n",
       "    </tr>\n",
       "    <tr>\n",
       "      <th>1394</th>\n",
       "      <td>2016-02-08</td>\n",
       "      <td>Yumlane</td>\n",
       "      <td>Food &amp; Beverage</td>\n",
       "      <td>Mumbai</td>\n",
       "      <td>Seed Funding</td>\n",
       "      <td>1000000.0</td>\n",
       "    </tr>\n",
       "  </tbody>\n",
       "</table>\n",
       "</div>"
      ],
      "text/plain": [
       "            date      startup           vertical       city         round  \\\n",
       "612   2017-02-08         Zepo  Consumer Internet     Mumbai  Seed Funding   \n",
       "1165  2016-02-11       LetsMD  Consumer Internet  New Delhi  Seed Funding   \n",
       "1348  2016-09-15      infeedo  Consumer Internet    Gurgaon  Seed Funding   \n",
       "1393  2016-02-08  Daily Ninja  Consumer Internet  Bangalore  Seed Funding   \n",
       "1394  2016-02-08      Yumlane    Food & Beverage     Mumbai  Seed Funding   \n",
       "\n",
       "         amount  \n",
       "612    500000.0  \n",
       "1165        0.0  \n",
       "1348   200000.0  \n",
       "1393        0.0  \n",
       "1394  1000000.0  "
      ]
     },
     "execution_count": 11,
     "metadata": {},
     "output_type": "execute_result"
    }
   ],
   "source": [
    "# Getting the investor name\n",
    "\n",
    "\n",
    "# Getting the recent investments of a particular investor\n",
    "df[df[\"investors\"].str.contains(\"Anupam Mittal\")].head()[[\"date\", \"startup\", \"vertical\", \"city\", \"round\", \"amount\"]]"
   ]
  },
  {
   "cell_type": "markdown",
   "id": "a18e74b0",
   "metadata": {},
   "source": [
    "**Analysis**\n",
    "\n",
    "The dataset primarily includes startups from the Consumer Internet and Food & Beverage sectors.\n",
    "\n",
    "Funding rounds are primarily Seed Funding, which is common for early-stage startups.\n",
    "\n",
    "Mumbai, New Delhi, Gurgaon, and Bangalore are among the cities where these startups are based, indicating geographical diversity.\n"
   ]
  },
  {
   "cell_type": "code",
   "execution_count": 12,
   "id": "4f608361",
   "metadata": {},
   "outputs": [
    {
     "data": {
      "text/plain": [
       "startup\n",
       "Ezetap    25000000.0\n",
       "Name: amount, dtype: float64"
      ]
     },
     "execution_count": 12,
     "metadata": {},
     "output_type": "execute_result"
    }
   ],
   "source": [
    "# Getting Biggest Investments\n",
    "df[df[\"investors\"].str.contains(\"Capricorn Investment Group\")].groupby(\"startup\")[\"amount\"].sum().sort_values(ascending=False)"
   ]
  },
  {
   "cell_type": "code",
   "execution_count": 13,
   "id": "faec4861",
   "metadata": {},
   "outputs": [
    {
     "data": {
      "text/plain": [
       "vertical\n",
       "Logistics Tech                 5500000.0\n",
       "Food Delivery Platform         1750000.0\n",
       "Consumer Internet              1200000.0\n",
       "Food & Beverage                1000000.0\n",
       "Used Car Marketplace            500000.0\n",
       "FMCG                            370000.0\n",
       "Live video streaming app             0.0\n",
       "Splitting Bills Mobile App           0.0\n",
       "Startup Funding Marketplace          0.0\n",
       "Tech enabled AC bus service          0.0\n",
       "Technology                           0.0\n",
       "eCommerce                            0.0\n",
       "Name: amount, dtype: float64"
      ]
     },
     "execution_count": 13,
     "metadata": {},
     "output_type": "execute_result"
    }
   ],
   "source": [
    "df[df[\"investors\"].str.contains(\"Anupam Mittal\")].groupby(\"vertical\")[\"amount\"].sum().sort_values(ascending=False)"
   ]
  },
  {
   "cell_type": "markdown",
   "id": "917e1522",
   "metadata": {},
   "source": [
    "**Analysis**\n",
    "\n",
    "The data highlights the varying levels of funding across different verticals, with Logistics Tech, Food Delivery Platform, and Consumer Internet leading in terms of investment amounts.\n",
    "\n",
    "Understanding funding distribution across verticals can provide insights into investor preferences, industry trends, and areas of innovation in the startup ecosystem."
   ]
  },
  {
   "cell_type": "code",
   "execution_count": 14,
   "id": "821bb0cc",
   "metadata": {},
   "outputs": [
    {
     "data": {
      "text/plain": [
       "<Axes: ylabel='amount'>"
      ]
     },
     "execution_count": 14,
     "metadata": {},
     "output_type": "execute_result"
    },
    {
     "data": {
      "image/png": "[encoded data removed]",
      "text/plain": [
       "<Figure size 640x480 with 1 Axes>"
      ]
     },
     "metadata": {},
     "output_type": "display_data"
    }
   ],
   "source": [
    "# Getting invested in which stage\n",
    "df[df[\"investors\"].str.contains(\"Anupam Mittal\")].groupby(\"round\")[\"amount\"].sum().sort_values(ascending=False).plot(kind=\"pie\")"
   ]
  },
  {
   "cell_type": "code",
   "execution_count": 15,
   "id": "d965e4a3",
   "metadata": {},
   "outputs": [
    {
     "data": {
      "image/png": "[encoded data removed]",
      "text/plain": [
       "<Figure size 640x480 with 1 Axes>"
      ]
     },
     "metadata": {},
     "output_type": "display_data"
    }
   ],
   "source": [
    "round_df = df[df[\"investors\"].str.contains(\"Anupam Mittal\")].groupby(\"round\")[\"amount\"].sum().sort_values(ascending=False).plot(kind=\"pie\")"
   ]
  },
  {
   "cell_type": "code",
   "execution_count": 16,
   "id": "0a5706c4",
   "metadata": {},
   "outputs": [
    {
     "data": {
      "text/plain": [
       "<Axes: ylabel='amount'>"
      ]
     },
     "execution_count": 16,
     "metadata": {},
     "output_type": "execute_result"
    },
    {
     "data": {
      "image/png": "[encoded data removed]",
      "text/plain": [
       "<Figure size 640x480 with 1 Axes>"
      ]
     },
     "metadata": {},
     "output_type": "display_data"
    }
   ],
   "source": [
    "# Getting invested in which city\n",
    "df[df[\"investors\"].str.contains(\"Anupam Mittal\")].groupby(\"city\")[\"amount\"].sum().sort_values(ascending=False).plot(kind=\"pie\")"
   ]
  },
  {
   "cell_type": "code",
   "execution_count": 21,
   "id": "4d5b74b5",
   "metadata": {},
   "outputs": [],
   "source": [
    "# Year on Year(YoY) investment graph\n",
    "\n",
    "df[\"date\"] = pd.to_datetime(df[\"date\"])\n",
    "\n",
    "# Now you can extract the year\n",
    "df[\"year\"] = df[\"date\"].dt.year"
   ]
  },
  {
   "cell_type": "code",
   "execution_count": 22,
   "id": "f5071195",
   "metadata": {},
   "outputs": [
    {
     "data": {
      "text/html": [
       "<div>\n",
       "<style scoped>\n",
       "    .dataframe tbody tr th:only-of-type {\n",
       "        vertical-align: middle;\n",
       "    }\n",
       "\n",
       "    .dataframe tbody tr th {\n",
       "        vertical-align: top;\n",
       "    }\n",
       "\n",
       "    .dataframe thead th {\n",
       "        text-align: right;\n",
       "    }\n",
       "</style>\n",
       "<table border=\"1\" class=\"dataframe\">\n",
       "  <thead>\n",
       "    <tr style=\"text-align: right;\">\n",
       "      <th></th>\n",
       "      <th>date</th>\n",
       "      <th>startup</th>\n",
       "      <th>vertical</th>\n",
       "      <th>subvertical</th>\n",
       "      <th>city</th>\n",
       "      <th>investors</th>\n",
       "      <th>round</th>\n",
       "      <th>amount</th>\n",
       "      <th>year</th>\n",
       "    </tr>\n",
       "  </thead>\n",
       "  <tbody>\n",
       "    <tr>\n",
       "      <th>0</th>\n",
       "      <td>2020-09-01</td>\n",
       "      <td>BYJU’S</td>\n",
       "      <td>E-Tech</td>\n",
       "      <td>E-learning</td>\n",
       "      <td>Bengaluru</td>\n",
       "      <td>Tiger Global Management</td>\n",
       "      <td>Private Equity Round</td>\n",
       "      <td>200000000.0</td>\n",
       "      <td>2020</td>\n",
       "    </tr>\n",
       "    <tr>\n",
       "      <th>1</th>\n",
       "      <td>2020-01-13</td>\n",
       "      <td>Shuttl</td>\n",
       "      <td>Transportation</td>\n",
       "      <td>App based shuttle service</td>\n",
       "      <td>Gurgaon</td>\n",
       "      <td>Susquehanna Growth Equity</td>\n",
       "      <td>Series C</td>\n",
       "      <td>8048394.0</td>\n",
       "      <td>2020</td>\n",
       "    </tr>\n",
       "    <tr>\n",
       "      <th>2</th>\n",
       "      <td>2020-09-01</td>\n",
       "      <td>Mamaearth</td>\n",
       "      <td>E-commerce</td>\n",
       "      <td>Retailer of baby and toddler products</td>\n",
       "      <td>Bengaluru</td>\n",
       "      <td>Sequoia Capital India</td>\n",
       "      <td>Series B</td>\n",
       "      <td>18358860.0</td>\n",
       "      <td>2020</td>\n",
       "    </tr>\n",
       "    <tr>\n",
       "      <th>3</th>\n",
       "      <td>2020-02-01</td>\n",
       "      <td>https://www.wealthbucket.in/</td>\n",
       "      <td>FinTech</td>\n",
       "      <td>Online Investment</td>\n",
       "      <td>New Delhi</td>\n",
       "      <td>Vinod Khatumal</td>\n",
       "      <td>Pre-series A</td>\n",
       "      <td>3000000.0</td>\n",
       "      <td>2020</td>\n",
       "    </tr>\n",
       "    <tr>\n",
       "      <th>4</th>\n",
       "      <td>2020-02-01</td>\n",
       "      <td>Fashor</td>\n",
       "      <td>Fashion and Apparel</td>\n",
       "      <td>Embroiled Clothes For Women</td>\n",
       "      <td>Mumbai</td>\n",
       "      <td>Sprout Venture Partners</td>\n",
       "      <td>Seed Round</td>\n",
       "      <td>1800000.0</td>\n",
       "      <td>2020</td>\n",
       "    </tr>\n",
       "  </tbody>\n",
       "</table>\n",
       "</div>"
      ],
      "text/plain": [
       "        date                       startup             vertical  \\\n",
       "0 2020-09-01                        BYJU’S               E-Tech   \n",
       "1 2020-01-13                        Shuttl       Transportation   \n",
       "2 2020-09-01                     Mamaearth           E-commerce   \n",
       "3 2020-02-01  https://www.wealthbucket.in/              FinTech   \n",
       "4 2020-02-01                        Fashor  Fashion and Apparel   \n",
       "\n",
       "                             subvertical       city  \\\n",
       "0                             E-learning  Bengaluru   \n",
       "1              App based shuttle service    Gurgaon   \n",
       "2  Retailer of baby and toddler products  Bengaluru   \n",
       "3                      Online Investment  New Delhi   \n",
       "4            Embroiled Clothes For Women     Mumbai   \n",
       "\n",
       "                   investors                 round       amount  year  \n",
       "0    Tiger Global Management  Private Equity Round  200000000.0  2020  \n",
       "1  Susquehanna Growth Equity              Series C    8048394.0  2020  \n",
       "2      Sequoia Capital India              Series B   18358860.0  2020  \n",
       "3             Vinod Khatumal          Pre-series A    3000000.0  2020  \n",
       "4    Sprout Venture Partners            Seed Round    1800000.0  2020  "
      ]
     },
     "execution_count": 22,
     "metadata": {},
     "output_type": "execute_result"
    }
   ],
   "source": [
    "df.head()"
   ]
  },
  {
   "cell_type": "code",
   "execution_count": 23,
   "id": "9be86348",
   "metadata": {},
   "outputs": [
    {
     "data": {
      "text/plain": [
       "<Axes: xlabel='year'>"
      ]
     },
     "execution_count": 23,
     "metadata": {},
     "output_type": "execute_result"
    },
    {
     "data": {
      "image/png": "[encoded data removed]",
      "text/plain": [
       "<Figure size 640x480 with 1 Axes>"
      ]
     },
     "metadata": {},
     "output_type": "display_data"
    }
   ],
   "source": [
    "df[df[\"investors\"].str.contains(\"Tiger Global Management\")].groupby(\"year\")[\"amount\"].sum().sort_values(ascending=False).plot(grid=True, color=\"green\")"
   ]
  },
  {
   "cell_type": "markdown",
   "id": "4420263f",
   "metadata": {},
   "source": [
    "### Overall Analysis"
   ]
  },
  {
   "cell_type": "code",
   "execution_count": 24,
   "id": "2ea5a347",
   "metadata": {},
   "outputs": [
    {
     "data": {
      "text/plain": [
       "35932149535"
      ]
     },
     "execution_count": 24,
     "metadata": {},
     "output_type": "execute_result"
    }
   ],
   "source": [
    "# find the total amount invested\n",
    "round(df[\"amount\"].sum())"
   ]
  },
  {
   "cell_type": "code",
   "execution_count": 25,
   "id": "971c4cf1",
   "metadata": {},
   "outputs": [
    {
     "data": {
      "text/plain": [
       "3900000000.0"
      ]
     },
     "execution_count": 25,
     "metadata": {},
     "output_type": "execute_result"
    }
   ],
   "source": [
    "# find the maximum amount invested\n",
    "df.groupby(\"startup\")[\"amount\"].max().sort_values(ascending=False)[0] "
   ]
  },
  {
   "cell_type": "code",
   "execution_count": 26,
   "id": "9e05027b",
   "metadata": {},
   "outputs": [
    {
     "data": {
      "text/plain": [
       "15636270"
      ]
     },
     "execution_count": 26,
     "metadata": {},
     "output_type": "execute_result"
    }
   ],
   "source": [
    "# Find the average amount invested\n",
    "round(df.groupby(\"startup\")[\"amount\"].sum().mean())"
   ]
  },
  {
   "cell_type": "code",
   "execution_count": 27,
   "id": "445923f4",
   "metadata": {},
   "outputs": [
    {
     "data": {
      "text/plain": [
       "2298"
      ]
     },
     "execution_count": 27,
     "metadata": {},
     "output_type": "execute_result"
    }
   ],
   "source": [
    "# total funded startups\n",
    "df[\"startup\"].nunique()"
   ]
  },
  {
   "cell_type": "code",
   "execution_count": 28,
   "id": "6b021f4a",
   "metadata": {},
   "outputs": [],
   "source": [
    "# Month on Month(MoM) chart\n",
    "df[\"month\"] = df[\"date\"].dt.month"
   ]
  },
  {
   "cell_type": "code",
   "execution_count": 29,
   "id": "bc15a122",
   "metadata": {},
   "outputs": [
    {
     "data": {
      "text/html": [
       "<div>\n",
       "<style scoped>\n",
       "    .dataframe tbody tr th:only-of-type {\n",
       "        vertical-align: middle;\n",
       "    }\n",
       "\n",
       "    .dataframe tbody tr th {\n",
       "        vertical-align: top;\n",
       "    }\n",
       "\n",
       "    .dataframe thead th {\n",
       "        text-align: right;\n",
       "    }\n",
       "</style>\n",
       "<table border=\"1\" class=\"dataframe\">\n",
       "  <thead>\n",
       "    <tr style=\"text-align: right;\">\n",
       "      <th></th>\n",
       "      <th>date</th>\n",
       "      <th>startup</th>\n",
       "      <th>vertical</th>\n",
       "      <th>subvertical</th>\n",
       "      <th>city</th>\n",
       "      <th>investors</th>\n",
       "      <th>round</th>\n",
       "      <th>amount</th>\n",
       "      <th>year</th>\n",
       "      <th>month</th>\n",
       "    </tr>\n",
       "  </thead>\n",
       "  <tbody>\n",
       "    <tr>\n",
       "      <th>0</th>\n",
       "      <td>2020-09-01</td>\n",
       "      <td>BYJU’S</td>\n",
       "      <td>E-Tech</td>\n",
       "      <td>E-learning</td>\n",
       "      <td>Bengaluru</td>\n",
       "      <td>Tiger Global Management</td>\n",
       "      <td>Private Equity Round</td>\n",
       "      <td>200000000.0</td>\n",
       "      <td>2020</td>\n",
       "      <td>9</td>\n",
       "    </tr>\n",
       "    <tr>\n",
       "      <th>1</th>\n",
       "      <td>2020-01-13</td>\n",
       "      <td>Shuttl</td>\n",
       "      <td>Transportation</td>\n",
       "      <td>App based shuttle service</td>\n",
       "      <td>Gurgaon</td>\n",
       "      <td>Susquehanna Growth Equity</td>\n",
       "      <td>Series C</td>\n",
       "      <td>8048394.0</td>\n",
       "      <td>2020</td>\n",
       "      <td>1</td>\n",
       "    </tr>\n",
       "    <tr>\n",
       "      <th>2</th>\n",
       "      <td>2020-09-01</td>\n",
       "      <td>Mamaearth</td>\n",
       "      <td>E-commerce</td>\n",
       "      <td>Retailer of baby and toddler products</td>\n",
       "      <td>Bengaluru</td>\n",
       "      <td>Sequoia Capital India</td>\n",
       "      <td>Series B</td>\n",
       "      <td>18358860.0</td>\n",
       "      <td>2020</td>\n",
       "      <td>9</td>\n",
       "    </tr>\n",
       "    <tr>\n",
       "      <th>3</th>\n",
       "      <td>2020-02-01</td>\n",
       "      <td>https://www.wealthbucket.in/</td>\n",
       "      <td>FinTech</td>\n",
       "      <td>Online Investment</td>\n",
       "      <td>New Delhi</td>\n",
       "      <td>Vinod Khatumal</td>\n",
       "      <td>Pre-series A</td>\n",
       "      <td>3000000.0</td>\n",
       "      <td>2020</td>\n",
       "      <td>2</td>\n",
       "    </tr>\n",
       "    <tr>\n",
       "      <th>4</th>\n",
       "      <td>2020-02-01</td>\n",
       "      <td>Fashor</td>\n",
       "      <td>Fashion and Apparel</td>\n",
       "      <td>Embroiled Clothes For Women</td>\n",
       "      <td>Mumbai</td>\n",
       "      <td>Sprout Venture Partners</td>\n",
       "      <td>Seed Round</td>\n",
       "      <td>1800000.0</td>\n",
       "      <td>2020</td>\n",
       "      <td>2</td>\n",
       "    </tr>\n",
       "  </tbody>\n",
       "</table>\n",
       "</div>"
      ],
      "text/plain": [
       "        date                       startup             vertical  \\\n",
       "0 2020-09-01                        BYJU’S               E-Tech   \n",
       "1 2020-01-13                        Shuttl       Transportation   \n",
       "2 2020-09-01                     Mamaearth           E-commerce   \n",
       "3 2020-02-01  https://www.wealthbucket.in/              FinTech   \n",
       "4 2020-02-01                        Fashor  Fashion and Apparel   \n",
       "\n",
       "                             subvertical       city  \\\n",
       "0                             E-learning  Bengaluru   \n",
       "1              App based shuttle service    Gurgaon   \n",
       "2  Retailer of baby and toddler products  Bengaluru   \n",
       "3                      Online Investment  New Delhi   \n",
       "4            Embroiled Clothes For Women     Mumbai   \n",
       "\n",
       "                   investors                 round       amount  year  month  \n",
       "0    Tiger Global Management  Private Equity Round  200000000.0  2020      9  \n",
       "1  Susquehanna Growth Equity              Series C    8048394.0  2020      1  \n",
       "2      Sequoia Capital India              Series B   18358860.0  2020      9  \n",
       "3             Vinod Khatumal          Pre-series A    3000000.0  2020      2  \n",
       "4    Sprout Venture Partners            Seed Round    1800000.0  2020      2  "
      ]
     },
     "execution_count": 29,
     "metadata": {},
     "output_type": "execute_result"
    }
   ],
   "source": [
    "df.head()"
   ]
  },
  {
   "cell_type": "code",
   "execution_count": 30,
   "id": "e66a4068",
   "metadata": {},
   "outputs": [
    {
     "data": {
      "text/html": [
       "<div>\n",
       "<style scoped>\n",
       "    .dataframe tbody tr th:only-of-type {\n",
       "        vertical-align: middle;\n",
       "    }\n",
       "\n",
       "    .dataframe tbody tr th {\n",
       "        vertical-align: top;\n",
       "    }\n",
       "\n",
       "    .dataframe thead th {\n",
       "        text-align: right;\n",
       "    }\n",
       "</style>\n",
       "<table border=\"1\" class=\"dataframe\">\n",
       "  <thead>\n",
       "    <tr style=\"text-align: right;\">\n",
       "      <th></th>\n",
       "      <th>year</th>\n",
       "      <th>month</th>\n",
       "      <th>startup</th>\n",
       "    </tr>\n",
       "  </thead>\n",
       "  <tbody>\n",
       "    <tr>\n",
       "      <th>0</th>\n",
       "      <td>2015</td>\n",
       "      <td>1</td>\n",
       "      <td>35</td>\n",
       "    </tr>\n",
       "    <tr>\n",
       "      <th>1</th>\n",
       "      <td>2015</td>\n",
       "      <td>2</td>\n",
       "      <td>14</td>\n",
       "    </tr>\n",
       "    <tr>\n",
       "      <th>2</th>\n",
       "      <td>2015</td>\n",
       "      <td>3</td>\n",
       "      <td>36</td>\n",
       "    </tr>\n",
       "    <tr>\n",
       "      <th>3</th>\n",
       "      <td>2015</td>\n",
       "      <td>4</td>\n",
       "      <td>65</td>\n",
       "    </tr>\n",
       "    <tr>\n",
       "      <th>4</th>\n",
       "      <td>2015</td>\n",
       "      <td>5</td>\n",
       "      <td>53</td>\n",
       "    </tr>\n",
       "    <tr>\n",
       "      <th>...</th>\n",
       "      <td>...</td>\n",
       "      <td>...</td>\n",
       "      <td>...</td>\n",
       "    </tr>\n",
       "    <tr>\n",
       "      <th>58</th>\n",
       "      <td>2019</td>\n",
       "      <td>12</td>\n",
       "      <td>10</td>\n",
       "    </tr>\n",
       "    <tr>\n",
       "      <th>59</th>\n",
       "      <td>2020</td>\n",
       "      <td>1</td>\n",
       "      <td>2</td>\n",
       "    </tr>\n",
       "    <tr>\n",
       "      <th>60</th>\n",
       "      <td>2020</td>\n",
       "      <td>2</td>\n",
       "      <td>2</td>\n",
       "    </tr>\n",
       "    <tr>\n",
       "      <th>61</th>\n",
       "      <td>2020</td>\n",
       "      <td>9</td>\n",
       "      <td>2</td>\n",
       "    </tr>\n",
       "    <tr>\n",
       "      <th>62</th>\n",
       "      <td>2020</td>\n",
       "      <td>10</td>\n",
       "      <td>1</td>\n",
       "    </tr>\n",
       "  </tbody>\n",
       "</table>\n",
       "<p>63 rows × 3 columns</p>\n",
       "</div>"
      ],
      "text/plain": [
       "    year  month  startup\n",
       "0   2015      1       35\n",
       "1   2015      2       14\n",
       "2   2015      3       36\n",
       "3   2015      4       65\n",
       "4   2015      5       53\n",
       "..   ...    ...      ...\n",
       "58  2019     12       10\n",
       "59  2020      1        2\n",
       "60  2020      2        2\n",
       "61  2020      9        2\n",
       "62  2020     10        1\n",
       "\n",
       "[63 rows x 3 columns]"
      ]
     },
     "execution_count": 30,
     "metadata": {},
     "output_type": "execute_result"
    }
   ],
   "source": [
    "# total number of fundings in each month of each year\n",
    "df.groupby([\"year\", \"month\"])[\"startup\"].count().reset_index()"
   ]
  },
  {
   "cell_type": "markdown",
   "id": "b5bc6c79",
   "metadata": {},
   "source": [
    "**Interprtation**\n",
    "\n",
    "In 2015, startup counts appear to increase from January to April, with variations in subsequent months.\n",
    "\n",
    "There is a spike in startup counts in certain months of 2017 and 2018.\n",
    "\n",
    "The data shows a noticeable decline in startup counts from 2019 onwards, with lower counts in 2020."
   ]
  },
  {
   "cell_type": "code",
   "execution_count": 31,
   "id": "afdee53a",
   "metadata": {},
   "outputs": [
    {
     "data": {
      "text/html": [
       "<div>\n",
       "<style scoped>\n",
       "    .dataframe tbody tr th:only-of-type {\n",
       "        vertical-align: middle;\n",
       "    }\n",
       "\n",
       "    .dataframe tbody tr th {\n",
       "        vertical-align: top;\n",
       "    }\n",
       "\n",
       "    .dataframe thead th {\n",
       "        text-align: right;\n",
       "    }\n",
       "</style>\n",
       "<table border=\"1\" class=\"dataframe\">\n",
       "  <thead>\n",
       "    <tr style=\"text-align: right;\">\n",
       "      <th></th>\n",
       "      <th>year</th>\n",
       "      <th>month</th>\n",
       "      <th>amount</th>\n",
       "    </tr>\n",
       "  </thead>\n",
       "  <tbody>\n",
       "    <tr>\n",
       "      <th>0</th>\n",
       "      <td>2015</td>\n",
       "      <td>1</td>\n",
       "      <td>639350000.0</td>\n",
       "    </tr>\n",
       "    <tr>\n",
       "      <th>1</th>\n",
       "      <td>2015</td>\n",
       "      <td>2</td>\n",
       "      <td>189961000.0</td>\n",
       "    </tr>\n",
       "    <tr>\n",
       "      <th>2</th>\n",
       "      <td>2015</td>\n",
       "      <td>3</td>\n",
       "      <td>231595000.0</td>\n",
       "    </tr>\n",
       "    <tr>\n",
       "      <th>3</th>\n",
       "      <td>2015</td>\n",
       "      <td>4</td>\n",
       "      <td>546795000.0</td>\n",
       "    </tr>\n",
       "    <tr>\n",
       "      <th>4</th>\n",
       "      <td>2015</td>\n",
       "      <td>5</td>\n",
       "      <td>169870000.0</td>\n",
       "    </tr>\n",
       "    <tr>\n",
       "      <th>...</th>\n",
       "      <td>...</td>\n",
       "      <td>...</td>\n",
       "      <td>...</td>\n",
       "    </tr>\n",
       "    <tr>\n",
       "      <th>58</th>\n",
       "      <td>2019</td>\n",
       "      <td>12</td>\n",
       "      <td>444500000.0</td>\n",
       "    </tr>\n",
       "    <tr>\n",
       "      <th>59</th>\n",
       "      <td>2020</td>\n",
       "      <td>1</td>\n",
       "      <td>17048394.0</td>\n",
       "    </tr>\n",
       "    <tr>\n",
       "      <th>60</th>\n",
       "      <td>2020</td>\n",
       "      <td>2</td>\n",
       "      <td>4800000.0</td>\n",
       "    </tr>\n",
       "    <tr>\n",
       "      <th>61</th>\n",
       "      <td>2020</td>\n",
       "      <td>9</td>\n",
       "      <td>218358860.0</td>\n",
       "    </tr>\n",
       "    <tr>\n",
       "      <th>62</th>\n",
       "      <td>2020</td>\n",
       "      <td>10</td>\n",
       "      <td>150000000.0</td>\n",
       "    </tr>\n",
       "  </tbody>\n",
       "</table>\n",
       "<p>63 rows × 3 columns</p>\n",
       "</div>"
      ],
      "text/plain": [
       "    year  month       amount\n",
       "0   2015      1  639350000.0\n",
       "1   2015      2  189961000.0\n",
       "2   2015      3  231595000.0\n",
       "3   2015      4  546795000.0\n",
       "4   2015      5  169870000.0\n",
       "..   ...    ...          ...\n",
       "58  2019     12  444500000.0\n",
       "59  2020      1   17048394.0\n",
       "60  2020      2    4800000.0\n",
       "61  2020      9  218358860.0\n",
       "62  2020     10  150000000.0\n",
       "\n",
       "[63 rows x 3 columns]"
      ]
     },
     "execution_count": 31,
     "metadata": {},
     "output_type": "execute_result"
    }
   ],
   "source": [
    "# total amount funded each month of each year\n",
    "df.groupby([\"year\", \"month\"])[\"amount\"].sum().reset_index()"
   ]
  },
  {
   "cell_type": "markdown",
   "id": "695f5fc3",
   "metadata": {},
   "source": [
    "**Interpretation**\n",
    "\n",
    "In 2015, there is a notable increase in total funding amounts from January to April, followed by fluctuations in subsequent months.\n",
    "\n",
    "There is a peak in funding amounts in certain months of 2017 and 2018.\n",
    "\n",
    "The data shows a noticeable decline in funding amounts from 2019 onwards, with lower amounts in 2020."
   ]
  },
  {
   "cell_type": "markdown",
   "id": "04b25d14",
   "metadata": {},
   "source": [
    "### Startup Analysis"
   ]
  },
  {
   "cell_type": "code",
   "execution_count": 33,
   "id": "9bee5e92",
   "metadata": {},
   "outputs": [
    {
     "data": {
      "text/html": [
       "<div>\n",
       "<style scoped>\n",
       "    .dataframe tbody tr th:only-of-type {\n",
       "        vertical-align: middle;\n",
       "    }\n",
       "\n",
       "    .dataframe tbody tr th {\n",
       "        vertical-align: top;\n",
       "    }\n",
       "\n",
       "    .dataframe thead th {\n",
       "        text-align: right;\n",
       "    }\n",
       "</style>\n",
       "<table border=\"1\" class=\"dataframe\">\n",
       "  <thead>\n",
       "    <tr style=\"text-align: right;\">\n",
       "      <th></th>\n",
       "      <th>date</th>\n",
       "      <th>startup</th>\n",
       "      <th>vertical</th>\n",
       "      <th>subvertical</th>\n",
       "      <th>city</th>\n",
       "      <th>investors</th>\n",
       "      <th>round</th>\n",
       "      <th>amount</th>\n",
       "      <th>year</th>\n",
       "      <th>month</th>\n",
       "    </tr>\n",
       "  </thead>\n",
       "  <tbody>\n",
       "    <tr>\n",
       "      <th>656</th>\n",
       "      <td>2017-04-07</td>\n",
       "      <td>Droom</td>\n",
       "      <td>eCommerce</td>\n",
       "      <td>Online marketplace for automobiles</td>\n",
       "      <td>Gurgaon</td>\n",
       "      <td>Asset Management (Asia) Ltd, Digital Garage Inc</td>\n",
       "      <td>Private Equity</td>\n",
       "      <td>20000000.0</td>\n",
       "      <td>2017</td>\n",
       "      <td>4</td>\n",
       "    </tr>\n",
       "    <tr>\n",
       "      <th>968</th>\n",
       "      <td>2017-03-31</td>\n",
       "      <td>FalconBrick</td>\n",
       "      <td>Technology</td>\n",
       "      <td>Real-Estate Workflow mobile app</td>\n",
       "      <td>Bangalore</td>\n",
       "      <td>Satveer Thakral, LetsVenture, Mumbai Angels</td>\n",
       "      <td>Seed Funding</td>\n",
       "      <td>0.0</td>\n",
       "      <td>2017</td>\n",
       "      <td>3</td>\n",
       "    </tr>\n",
       "    <tr>\n",
       "      <th>1492</th>\n",
       "      <td>2016-07-07</td>\n",
       "      <td>Adytude</td>\n",
       "      <td>Consumer Internet</td>\n",
       "      <td>Gamified Consumer Insights Portal</td>\n",
       "      <td>New Delhi</td>\n",
       "      <td>Indian Angel Network</td>\n",
       "      <td>Private Equity</td>\n",
       "      <td>1000000.0</td>\n",
       "      <td>2016</td>\n",
       "      <td>7</td>\n",
       "    </tr>\n",
       "    <tr>\n",
       "      <th>54</th>\n",
       "      <td>2019-08-23</td>\n",
       "      <td>AdmitKard</td>\n",
       "      <td>EdTech</td>\n",
       "      <td>University Admissions</td>\n",
       "      <td>Noida</td>\n",
       "      <td>Growth DNA</td>\n",
       "      <td>Seed Round</td>\n",
       "      <td>1000000.0</td>\n",
       "      <td>2019</td>\n",
       "      <td>8</td>\n",
       "    </tr>\n",
       "    <tr>\n",
       "      <th>1791</th>\n",
       "      <td>2016-01-03</td>\n",
       "      <td>Gympik</td>\n",
       "      <td>Consumer Internet</td>\n",
       "      <td>Fitness Centres, Gym Discovery online marketplace</td>\n",
       "      <td>Bangalore</td>\n",
       "      <td>RoundGlass Partners</td>\n",
       "      <td>Private Equity</td>\n",
       "      <td>0.0</td>\n",
       "      <td>2016</td>\n",
       "      <td>1</td>\n",
       "    </tr>\n",
       "    <tr>\n",
       "      <th>1361</th>\n",
       "      <td>2016-09-21</td>\n",
       "      <td>Pepperfry</td>\n",
       "      <td>eCommerce</td>\n",
       "      <td>Furniture eTailer</td>\n",
       "      <td>Mumbai</td>\n",
       "      <td>Goldman Sachs Group, Zodius Technology Fund, N...</td>\n",
       "      <td>Private Equity</td>\n",
       "      <td>31300000.0</td>\n",
       "      <td>2016</td>\n",
       "      <td>9</td>\n",
       "    </tr>\n",
       "    <tr>\n",
       "      <th>1163</th>\n",
       "      <td>2016-02-11</td>\n",
       "      <td>FreshDesk</td>\n",
       "      <td>Consumer Internet</td>\n",
       "      <td>SAAS Based HelpDesk Services</td>\n",
       "      <td>Chennai</td>\n",
       "      <td>Sequoia Capital India, Accel Partners</td>\n",
       "      <td>Private Equity</td>\n",
       "      <td>55000000.0</td>\n",
       "      <td>2016</td>\n",
       "      <td>2</td>\n",
       "    </tr>\n",
       "    <tr>\n",
       "      <th>322</th>\n",
       "      <td>2018-03-22</td>\n",
       "      <td>Slang Labs</td>\n",
       "      <td>Technology</td>\n",
       "      <td>Voice-based assistant platform</td>\n",
       "      <td>Bengaluru</td>\n",
       "      <td>Endiya Partners</td>\n",
       "      <td>Seed / Angel Funding</td>\n",
       "      <td>1240000.0</td>\n",
       "      <td>2018</td>\n",
       "      <td>3</td>\n",
       "    </tr>\n",
       "    <tr>\n",
       "      <th>1085</th>\n",
       "      <td>2017-01-30</td>\n",
       "      <td>FabX</td>\n",
       "      <td>eCommerce</td>\n",
       "      <td>Used Furniture Marketplace</td>\n",
       "      <td>Mumbai</td>\n",
       "      <td>The Ten Minute Million</td>\n",
       "      <td>Seed Funding</td>\n",
       "      <td>68000.0</td>\n",
       "      <td>2017</td>\n",
       "      <td>1</td>\n",
       "    </tr>\n",
       "    <tr>\n",
       "      <th>1800</th>\n",
       "      <td>2016-04-03</td>\n",
       "      <td>TinyStep</td>\n",
       "      <td>Consumer Internet</td>\n",
       "      <td>Parenting Social Network Platform</td>\n",
       "      <td>Bangalore</td>\n",
       "      <td>Matt Glickman</td>\n",
       "      <td>Private Equity</td>\n",
       "      <td>0.0</td>\n",
       "      <td>2016</td>\n",
       "      <td>4</td>\n",
       "    </tr>\n",
       "  </tbody>\n",
       "</table>\n",
       "</div>"
      ],
      "text/plain": [
       "           date      startup           vertical  \\\n",
       "656  2017-04-07        Droom          eCommerce   \n",
       "968  2017-03-31  FalconBrick         Technology   \n",
       "1492 2016-07-07      Adytude  Consumer Internet   \n",
       "54   2019-08-23    AdmitKard             EdTech   \n",
       "1791 2016-01-03       Gympik  Consumer Internet   \n",
       "1361 2016-09-21    Pepperfry          eCommerce   \n",
       "1163 2016-02-11    FreshDesk  Consumer Internet   \n",
       "322  2018-03-22   Slang Labs         Technology   \n",
       "1085 2017-01-30         FabX          eCommerce   \n",
       "1800 2016-04-03     TinyStep  Consumer Internet   \n",
       "\n",
       "                                            subvertical       city  \\\n",
       "656                  Online marketplace for automobiles    Gurgaon   \n",
       "968                     Real-Estate Workflow mobile app  Bangalore   \n",
       "1492                  Gamified Consumer Insights Portal  New Delhi   \n",
       "54                                University Admissions      Noida   \n",
       "1791  Fitness Centres, Gym Discovery online marketplace  Bangalore   \n",
       "1361                                  Furniture eTailer     Mumbai   \n",
       "1163                       SAAS Based HelpDesk Services    Chennai   \n",
       "322                      Voice-based assistant platform  Bengaluru   \n",
       "1085                         Used Furniture Marketplace     Mumbai   \n",
       "1800                  Parenting Social Network Platform  Bangalore   \n",
       "\n",
       "                                              investors                 round  \\\n",
       "656     Asset Management (Asia) Ltd, Digital Garage Inc        Private Equity   \n",
       "968         Satveer Thakral, LetsVenture, Mumbai Angels          Seed Funding   \n",
       "1492                               Indian Angel Network        Private Equity   \n",
       "54                                           Growth DNA            Seed Round   \n",
       "1791                                RoundGlass Partners        Private Equity   \n",
       "1361  Goldman Sachs Group, Zodius Technology Fund, N...        Private Equity   \n",
       "1163              Sequoia Capital India, Accel Partners        Private Equity   \n",
       "322                                     Endiya Partners  Seed / Angel Funding   \n",
       "1085                             The Ten Minute Million          Seed Funding   \n",
       "1800                                      Matt Glickman        Private Equity   \n",
       "\n",
       "          amount  year  month  \n",
       "656   20000000.0  2017      4  \n",
       "968          0.0  2017      3  \n",
       "1492   1000000.0  2016      7  \n",
       "54     1000000.0  2019      8  \n",
       "1791         0.0  2016      1  \n",
       "1361  31300000.0  2016      9  \n",
       "1163  55000000.0  2016      2  \n",
       "322    1240000.0  2018      3  \n",
       "1085     68000.0  2017      1  \n",
       "1800         0.0  2016      4  "
      ]
     },
     "execution_count": 33,
     "metadata": {},
     "output_type": "execute_result"
    }
   ],
   "source": [
    "df.sample(10)"
   ]
  },
  {
   "cell_type": "code",
   "execution_count": 34,
   "id": "74d8e123",
   "metadata": {},
   "outputs": [
    {
     "data": {
      "text/html": [
       "<div>\n",
       "<style scoped>\n",
       "    .dataframe tbody tr th:only-of-type {\n",
       "        vertical-align: middle;\n",
       "    }\n",
       "\n",
       "    .dataframe tbody tr th {\n",
       "        vertical-align: top;\n",
       "    }\n",
       "\n",
       "    .dataframe thead th {\n",
       "        text-align: right;\n",
       "    }\n",
       "</style>\n",
       "<table border=\"1\" class=\"dataframe\">\n",
       "  <thead>\n",
       "    <tr style=\"text-align: right;\">\n",
       "      <th></th>\n",
       "      <th>date</th>\n",
       "      <th>vertical</th>\n",
       "      <th>city</th>\n",
       "      <th>round</th>\n",
       "      <th>amount</th>\n",
       "    </tr>\n",
       "  </thead>\n",
       "  <tbody>\n",
       "    <tr>\n",
       "      <th>15</th>\n",
       "      <td>2019-12-20</td>\n",
       "      <td>E-Commerce</td>\n",
       "      <td>Faridabad</td>\n",
       "      <td>Series G</td>\n",
       "      <td>231000000.0</td>\n",
       "    </tr>\n",
       "    <tr>\n",
       "      <th>281</th>\n",
       "      <td>2018-04-19</td>\n",
       "      <td>Consumer Internet</td>\n",
       "      <td>Faridabad</td>\n",
       "      <td>Private Equity</td>\n",
       "      <td>0.0</td>\n",
       "    </tr>\n",
       "    <tr>\n",
       "      <th>1323</th>\n",
       "      <td>2016-06-09</td>\n",
       "      <td>eCommerce</td>\n",
       "      <td>New Delhi</td>\n",
       "      <td>Private Equity</td>\n",
       "      <td>0.0</td>\n",
       "    </tr>\n",
       "    <tr>\n",
       "      <th>1645</th>\n",
       "      <td>2016-04-05</td>\n",
       "      <td>eCommerce</td>\n",
       "      <td>New Delhi</td>\n",
       "      <td>Private Equity</td>\n",
       "      <td>60000000.0</td>\n",
       "    </tr>\n",
       "  </tbody>\n",
       "</table>\n",
       "</div>"
      ],
      "text/plain": [
       "           date           vertical       city           round       amount\n",
       "15   2019-12-20         E-Commerce  Faridabad        Series G  231000000.0\n",
       "281  2018-04-19  Consumer Internet  Faridabad  Private Equity          0.0\n",
       "1323 2016-06-09          eCommerce  New Delhi  Private Equity          0.0\n",
       "1645 2016-04-05          eCommerce  New Delhi  Private Equity   60000000.0"
      ]
     },
     "execution_count": 34,
     "metadata": {},
     "output_type": "execute_result"
    }
   ],
   "source": [
    "# getting the investors for a particular startup\n",
    "df[df[\"startup\"].str.contains(\"Lenskart\")].head()[[\"date\", \"vertical\", \"city\", \"round\", \"amount\"]]"
   ]
  },
  {
   "cell_type": "code",
   "execution_count": 61,
   "id": "bad2429c",
   "metadata": {},
   "outputs": [
    {
     "data": {
      "image/png": "[encoded data removed]",
      "text/plain": [
       "<Figure size 432x288 with 1 Axes>"
      ]
     },
     "metadata": {
      "needs_background": "light"
     },
     "output_type": "display_data"
    }
   ],
   "source": [
    "# getting biggest investors\n",
    "df[df[\"startup\"].str.contains(\"Lenskart\")].groupby(\"investors\")[\"amount\"].sum().sort_values(ascending=False).plot(kind=\"bar\");"
   ]
  },
  {
   "cell_type": "code",
   "execution_count": 35,
   "id": "1af2a6aa",
   "metadata": {},
   "outputs": [
    {
     "data": {
      "text/plain": [
       "False"
      ]
     },
     "execution_count": 35,
     "metadata": {},
     "output_type": "execute_result"
    }
   ],
   "source": [
    "# getting invested in which round\n",
    "df[df[\"startup\"].str.contains(\"Monsoon Fintech\")].groupby(\"round\")[\"amount\"].sum().sort_values(ascending=False).any() #.plot(kind=\"pie\");"
   ]
  },
  {
   "cell_type": "code",
   "execution_count": 36,
   "id": "d8892ca9",
   "metadata": {},
   "outputs": [
    {
     "data": {
      "text/plain": [
       "city\n",
       "Faridabad    231000000.0\n",
       "New Delhi     60000000.0\n",
       "Name: amount, dtype: float64"
      ]
     },
     "execution_count": 36,
     "metadata": {},
     "output_type": "execute_result"
    }
   ],
   "source": [
    "# getting invested in which city\n",
    "df[df[\"startup\"].str.contains(\"Lenskart\")].groupby(\"city\")[\"amount\"].sum().sort_values(ascending=False)"
   ]
  },
  {
   "cell_type": "code",
   "execution_count": 37,
   "id": "9ae13a8f",
   "metadata": {},
   "outputs": [
    {
     "data": {
      "text/plain": [
       "year\n",
       "2016     60000000.0\n",
       "2018            0.0\n",
       "2019    231000000.0\n",
       "Name: amount, dtype: float64"
      ]
     },
     "execution_count": 37,
     "metadata": {},
     "output_type": "execute_result"
    }
   ],
   "source": [
    "# year on year investment in startup\n",
    "df[df[\"startup\"].str.contains(\"Lenskart\")].groupby(\"year\")[\"amount\"].sum() #.plot(grid=True, color=\"green\")"
   ]
  },
  {
   "cell_type": "code",
   "execution_count": 38,
   "id": "eb3924ac",
   "metadata": {},
   "outputs": [
    {
     "data": {
      "text/plain": [
       "<Axes: xlabel='year'>"
      ]
     },
     "execution_count": 38,
     "metadata": {},
     "output_type": "execute_result"
    },
    {
     "data": {
      "image/png": "[encoded data removed]",
      "text/plain": [
       "<Figure size 640x480 with 1 Axes>"
      ]
     },
     "metadata": {},
     "output_type": "display_data"
    }
   ],
   "source": [
    "# Year on Year Investment Graph\n",
    "df[df[\"startup\"].str.contains(\"Lenskart\")].groupby(\"year\")[\"amount\"].sum().sort_values(ascending=False).plot(grid=True, color=\"green\")"
   ]
  },
  {
   "cell_type": "markdown",
   "id": "5e94f23f",
   "metadata": {},
   "source": [
    "**Managerial Implications**\n",
    "\n",
    "\n",
    "Identify popular verticals and industries to align their startups with market trends.\n",
    "Analyze funding trends to understand the availability of capital in different periods.\n",
    "Consider geographical preferences and trends when choosing the location for the startup.\n",
    "Investment Portfolio Management for Investors:\n",
    "\n",
    "\n",
    "Allocate investments based on trends in funding amounts and vertical preferences.\n",
    "Adjust investment strategies according to seasonal or yearly patterns in startup creation.\n",
    "Diversify investments across regions and industries for risk mitigation.\n",
    "Policy Formulation for Policymakers:\n",
    "\n",
    "\n",
    "Design targeted policies to encourage entrepreneurship in specific verticals or regions.\n",
    "Allocate resources based on observed trends in startup creation and funding.\n",
    "Monitor the impact of existing policies on the startup ecosystem and make adjustments as needed.\n",
    "Risk Mitigation for Investors and Entrepreneurs:\n",
    "\n",
    "\n",
    "Entrepreneurs can time their market entry based on observed trends in startup creation.\n",
    "Investors can adjust investment strategies to account for seasonal variations in funding."
   ]
  },
  {
   "cell_type": "code",
   "execution_count": null,
   "id": "bd2aaaba",
   "metadata": {},
   "outputs": [],
   "source": []
  }
 ],
 "metadata": {
  "kernelspec": {
   "display_name": "Python 3 (ipykernel)",
   "language": "python",
   "name": "python3"
  },
  "language_info": {
   "codemirror_mode": {
    "name": "ipython",
    "version": 3
   },
   "file_extension": ".py",
   "mimetype": "text/x-python",
   "name": "python",
   "nbconvert_exporter": "python",
   "pygments_lexer": "ipython3",
   "version": "3.11.3"
  }
 },
 "nbformat": 4,
 "nbformat_minor": 5
}
